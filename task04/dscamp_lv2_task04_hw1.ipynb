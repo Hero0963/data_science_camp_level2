{
  "nbformat": 4,
  "nbformat_minor": 0,
  "metadata": {
    "colab": {
      "provenance": [],
      "authorship_tag": "ABX9TyOUWkq0hUhxZUXUhgANTlsq",
      "include_colab_link": true
    },
    "kernelspec": {
      "name": "python3",
      "display_name": "Python 3"
    },
    "language_info": {
      "name": "python"
    }
  },
  "cells": [
    {
      "cell_type": "markdown",
      "metadata": {
        "id": "view-in-github",
        "colab_type": "text"
      },
      "source": [
        "<a href=\"https://colab.research.google.com/github/Hero0963/data_science_camp_level2/blob/main/task04/dscamp_lv2_task04_hw1.ipynb\" target=\"_parent\"><img src=\"https://colab.research.google.com/assets/colab-badge.svg\" alt=\"Open In Colab\"/></a>"
      ]
    },
    {
      "cell_type": "markdown",
      "source": [
        "# **1. Python/Pandas 中有兩個空的型態「NaN」和「None」，請問這兩個是一樣的嗎？還是有什麼差別？** \n",
        "\n",
        "  缺失值有 3 種：  \n",
        "  a. None: python 內建類型，表示不存在或空的值。    \n",
        "  b. NA: pandas 中，表示缺失值 (not available)。    \n",
        "  c. NAN: pandas 中的數值缺失值 (not a number)。    \n",
        "  因此，在 pandas 中， NaN 可以用於數學運算，而 None 則不能。    \n",
        "  此外，在 pandas 中， None 會被轉換為 NaN。   "
      ],
      "metadata": {
        "id": "9rshXj45pcJD"
      }
    },
    {
      "cell_type": "markdown",
      "source": [
        "# **2. 在資料清理的過程中，我們可以使用填補空值的方法避免遺失值帶來的錯誤。實務上會建議「連續數值的話補平均，離散數值的話補眾數」，請問為什麼？**  \n",
        "\n",
        "  連續數值的情況：使用平均值進行填補可以保持資料的整體分佈趨勢，並且不會產生額外的偏差以及確保數據在原本範圍內。   \n",
        "  離散數值的情況：使用眾數進行填補可以保持資料的類別組成和分佈特性。  \n"
      ],
      "metadata": {
        "id": "eVOV7Nk8r5nr"
      }
    },
    {
      "cell_type": "markdown",
      "source": [
        "# **3. 承上題，也有人會建議可以利用統計內差/回歸或機器學習的方法進行空值填補，你覺得這是一種好方法嗎？為什麼？** \n",
        "\n",
        "我認為相比單純使用平均值或眾數填補，此方法更精確，  \n",
        "但需留意模型的有效性以及過擬合的風險。\n",
        "此外，採用統計內差/回歸或機器學習的方法填補缺失值，  \n",
        "相比使用平均值或眾數填補所消耗的計算成本，也是需考量的點之一。\n"
      ],
      "metadata": {
        "id": "PKSl5bPxu45T"
      }
    },
    {
      "cell_type": "markdown",
      "source": [
        "# **4. 可以請你解釋一下「Label-Encoding」和「One-Hot-Encoding」分別用於什麼情境？**\n",
        "    \n",
        "Label-Encoding: 將類別欄位轉換為數值欄位的方法，它可以將每個類別值映射為一個整數，適合有層級順序關係者，如職級、尺寸等。  \n",
        "One-hot-encoding 是一種將類別欄位轉換為數值欄位的方法，對於每個類別，都創建了一個新的欄位，其值為 0 或 1，對應於原來的類別值。\n",
        "適用於彼此類別無序的情況。"
      ],
      "metadata": {
        "id": "1opc67EGwPH1"
      }
    },
    {
      "cell_type": "markdown",
      "source": [
        "# **5. 請問如果以下幾種字串資料，你應該要用哪一種編碼方法處理？或是其他建議？**  \n",
        "手機號碼：0988123123、0937666666 ...  \n",
        "郵遞區號：300、807 ...  \n",
        "銀行帳號末五碼：33136、25466 ...    \n",
        "\n",
        "  手機號碼、銀行帳號末五碼，彼此間無序，我建議使用 One-Hot-Encoding。  \n",
        "  郵遞區號，首位數字反映了所在的縣市，數字接近者，行政區地理位置也接近，  \n",
        "我認為可以使用 Label-Encoding。\n"
      ],
      "metadata": {
        "id": "Sj6pk2oQwTxN"
      }
    }
  ]
}