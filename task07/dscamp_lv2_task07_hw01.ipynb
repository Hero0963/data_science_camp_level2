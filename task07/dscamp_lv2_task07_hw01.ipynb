{
  "nbformat": 4,
  "nbformat_minor": 0,
  "metadata": {
    "colab": {
      "provenance": [],
      "authorship_tag": "ABX9TyN1XS/C9Kbqe+8N7ex8Rg6W",
      "include_colab_link": true
    },
    "kernelspec": {
      "name": "python3",
      "display_name": "Python 3"
    },
    "language_info": {
      "name": "python"
    }
  },
  "cells": [
    {
      "cell_type": "markdown",
      "metadata": {
        "id": "view-in-github",
        "colab_type": "text"
      },
      "source": [
        "<a href=\"https://colab.research.google.com/github/Hero0963/data_science_camp_level2/blob/main/task07/dscamp_lv2_task07_hw01.ipynb\" target=\"_parent\"><img src=\"https://colab.research.google.com/assets/colab-badge.svg\" alt=\"Open In Colab\"/></a>"
      ]
    },
    {
      "cell_type": "markdown",
      "source": [
        "# **1. 請問「質化資料 (qualitative data) 」與「量化資料 (quantitative data) 」差別是什麼？**  \n",
        "  「質化資料」是指非數值型的資料，例如文字、圖像、聲音等，這些資料通常是由主觀的評估、描述、分析等方式所產生的。  \n",
        "而「量化資料」則是指數值型的資料，例如年齡、身高、體重等，這些資料通常是由客觀的測量、計算等方式所產生的。  \n",
        "  兩者的差別在於「質化資料」著重於主觀性，而「量化資料」則著重於客觀性。"
      ],
      "metadata": {
        "id": "_v3wjV61eXjr"
      }
    },
    {
      "cell_type": "markdown",
      "source": [
        "# **2. 描述統計中有三組指標「最大值、最小值和總和」、「眾數、均值和中位數」和「變異數、標準差、斜方差和分位數」 ，請問這三組分別可以看出資料的哪些趨勢？** \n",
        "  「最大值、最小值和總和」可以知道資料的範圍。  \n",
        "  「眾數、均值和中位數」可以看出資料的集中趨勢。  \n",
        "  「變異數、標準差、斜方差和分位數」可以看出資料的分散程度。\n",
        "  "
      ],
      "metadata": {
        "id": "ugl3QegKfbCn"
      }
    },
    {
      "cell_type": "markdown",
      "source": [
        "# **3. 相關係數分析能夠看出兩組資料間的關係，請問什麼叫做「正相關」、「無相關」與「負相關」？**  \n",
        "相關係數分析是用來度量兩個變數之間的線性相關程度的一種方法，其值介於-1和1之間。  \n",
        "當相關係數為正時，表示兩個變數之間存在正相關。  \n",
        "當相關係數為0時，表示兩個變數之間不存在線性相關。  \n",
        "當相關係數為負時，表示兩個變數之間存在負相關。  \n",
        "以下各舉幾例：  \n",
        "正相關：\n",
        "年齡和經驗、\n",
        "身高和體重、\n",
        "學習時間和成績、\n",
        "降雨量和水位。  \n",
        "負相關：\n",
        "體重和健康指數、\n",
        "溫度和衣服件數、\n",
        "睡眠時間和壓力。  \n",
        "無相關：\n",
        "雨量和股票價格、\n",
        "身高和血型、\n",
        "月份和學生成績、\n",
        "身高和星座。  \n",
        "\n"
      ],
      "metadata": {
        "id": "Bk0b8iR2gQ2z"
      }
    },
    {
      "cell_type": "markdown",
      "source": [
        "# **4. 在統計中有一句話叫做「Correlation is not causation.」，這句話的想表達的含義是什麼呢？**    \n",
        "  「Correlation is not causation.」這句話的意思是指，兩個事件或變量之間的相關性或相關性不代表它們之間存在因果關係。  \n",
        "這句話的含意是不能僅憑觀察到它們之間的聯繫或相關性就合理地推斷出兩個事件或變量之間的因果關係。  \n",
        "例如，如果我們發現在一個城市中，消費者購買了更多的冰淇淋，同時犯罪率也上升了，這並不意味著冰淇淋的消費導致了犯罪率上升。  "
      ],
      "metadata": {
        "id": "0TMmDI2ImQDt"
      }
    },
    {
      "cell_type": "markdown",
      "source": [
        "# **5. 模型的誤差可以分為「Bias」和「Variance」，請解釋這兩者分別代表什麼誤差？**  \n",
        "  「Bias」是指模型對於真實數據的偏差，也就是模型本身的錯誤。當模型出現高偏差時，通常是因為模型太過簡單，無法捕捉到數據中的複雜關係。例如，在一個非常複雜的數據集上，使用一個線性回歸模型就會出現高偏差。  \n",
        "\n",
        "  「Variance」是指模型對於數據的敏感度，也就是模型對於噪聲的過度擬合。當模型出現高方差時，通常是因為模型太過複雜，導致對於噪聲過度擬合。例如，在一個非常小的數據集上，使用一個高階多項式回歸模型就會出現高方差。  \n",
        "\n",
        "  ref = https://jason-chen-1992.weebly.com/home/-bias-variance-tradeoff"
      ],
      "metadata": {
        "id": "aLyvbyFonOOd"
      }
    }
  ]
}