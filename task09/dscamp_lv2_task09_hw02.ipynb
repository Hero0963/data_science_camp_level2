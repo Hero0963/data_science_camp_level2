{
  "nbformat": 4,
  "nbformat_minor": 0,
  "metadata": {
    "colab": {
      "provenance": [],
      "authorship_tag": "ABX9TyPFgW+ozNi7RdhBvVbKEi9I",
      "include_colab_link": true
    },
    "kernelspec": {
      "name": "python3",
      "display_name": "Python 3"
    },
    "language_info": {
      "name": "python"
    }
  },
  "cells": [
    {
      "cell_type": "markdown",
      "metadata": {
        "id": "view-in-github",
        "colab_type": "text"
      },
      "source": [
        "<a href=\"https://colab.research.google.com/github/Hero0963/data_science_camp_level2/blob/main/task09/dscamp_lv2_task09_hw02.ipynb\" target=\"_parent\"><img src=\"https://colab.research.google.com/assets/colab-badge.svg\" alt=\"Open In Colab\"/></a>"
      ]
    },
    {
      "cell_type": "markdown",
      "source": [
        "#練習：請根據給定的資料集，計算出「Frequent Patterns（Apriori）」和「Association Rules」的結果。"
      ],
      "metadata": {
        "id": "Kl3Ljy1X2RyJ"
      }
    },
    {
      "cell_type": "code",
      "execution_count": null,
      "metadata": {
        "id": "pGWp0xJX1tvW"
      },
      "outputs": [],
      "source": [
        "dataset = [\n",
        "  ['Milk', 'Onion', 'Nutmeg', 'Kidney' 'Beans', 'Eggs', 'Yogurt'],\n",
        "  ['Dill', 'Onion', 'Nutmeg', 'Kidney' 'Beans', 'Eggs', 'Yogurt'],\n",
        "  ['Milk', 'Apple', 'Kidney' 'Beans', 'Eggs'],\n",
        "  ['Milk', 'Unicorn', 'Corn', 'Kidney' 'Beans', 'Yogurt'],\n",
        "  ['Corn', 'Onion', 'Onion', 'Kidney' 'Beans', 'Ice cream', 'Eggs'],\n",
        "]"
      ]
    },
    {
      "cell_type": "code",
      "source": [
        "!pip install mlxtend "
      ],
      "metadata": {
        "colab": {
          "base_uri": "https://localhost:8080/"
        },
        "id": "uYtsDuMr2FgB",
        "outputId": "f3d0e0d9-6f60-4c08-e88f-d67f82bba172"
      },
      "execution_count": null,
      "outputs": [
        {
          "output_type": "stream",
          "name": "stdout",
          "text": [
            "Looking in indexes: https://pypi.org/simple, https://us-python.pkg.dev/colab-wheels/public/simple/\n",
            "Requirement already satisfied: mlxtend in /usr/local/lib/python3.10/dist-packages (0.14.0)\n",
            "Requirement already satisfied: scipy>=0.17 in /usr/local/lib/python3.10/dist-packages (from mlxtend) (1.10.1)\n",
            "Requirement already satisfied: numpy>=1.10.4 in /usr/local/lib/python3.10/dist-packages (from mlxtend) (1.22.4)\n",
            "Requirement already satisfied: pandas>=0.17.1 in /usr/local/lib/python3.10/dist-packages (from mlxtend) (1.5.3)\n",
            "Requirement already satisfied: scikit-learn>=0.18 in /usr/local/lib/python3.10/dist-packages (from mlxtend) (1.2.2)\n",
            "Requirement already satisfied: matplotlib>=1.5.1 in /usr/local/lib/python3.10/dist-packages (from mlxtend) (3.7.1)\n",
            "Requirement already satisfied: setuptools in /usr/local/lib/python3.10/dist-packages (from mlxtend) (67.7.2)\n",
            "Requirement already satisfied: contourpy>=1.0.1 in /usr/local/lib/python3.10/dist-packages (from matplotlib>=1.5.1->mlxtend) (1.0.7)\n",
            "Requirement already satisfied: cycler>=0.10 in /usr/local/lib/python3.10/dist-packages (from matplotlib>=1.5.1->mlxtend) (0.11.0)\n",
            "Requirement already satisfied: fonttools>=4.22.0 in /usr/local/lib/python3.10/dist-packages (from matplotlib>=1.5.1->mlxtend) (4.39.3)\n",
            "Requirement already satisfied: kiwisolver>=1.0.1 in /usr/local/lib/python3.10/dist-packages (from matplotlib>=1.5.1->mlxtend) (1.4.4)\n",
            "Requirement already satisfied: packaging>=20.0 in /usr/local/lib/python3.10/dist-packages (from matplotlib>=1.5.1->mlxtend) (23.1)\n",
            "Requirement already satisfied: pillow>=6.2.0 in /usr/local/lib/python3.10/dist-packages (from matplotlib>=1.5.1->mlxtend) (8.4.0)\n",
            "Requirement already satisfied: pyparsing>=2.3.1 in /usr/local/lib/python3.10/dist-packages (from matplotlib>=1.5.1->mlxtend) (3.0.9)\n",
            "Requirement already satisfied: python-dateutil>=2.7 in /usr/local/lib/python3.10/dist-packages (from matplotlib>=1.5.1->mlxtend) (2.8.2)\n",
            "Requirement already satisfied: pytz>=2020.1 in /usr/local/lib/python3.10/dist-packages (from pandas>=0.17.1->mlxtend) (2022.7.1)\n",
            "Requirement already satisfied: joblib>=1.1.1 in /usr/local/lib/python3.10/dist-packages (from scikit-learn>=0.18->mlxtend) (1.2.0)\n",
            "Requirement already satisfied: threadpoolctl>=2.0.0 in /usr/local/lib/python3.10/dist-packages (from scikit-learn>=0.18->mlxtend) (3.1.0)\n",
            "Requirement already satisfied: six>=1.5 in /usr/local/lib/python3.10/dist-packages (from python-dateutil>=2.7->matplotlib>=1.5.1->mlxtend) (1.16.0)\n"
          ]
        }
      ]
    },
    {
      "cell_type": "code",
      "source": [
        "import pandas as pd\n",
        "from mlxtend.preprocessing import TransactionEncoder\n",
        "from mlxtend.frequent_patterns import apriori, association_rules\n",
        "\n",
        "te = TransactionEncoder()\n",
        "te_ary = te.fit(dataset).transform(dataset)\n",
        "df = pd.DataFrame(te_ary, columns=te.columns_)\n",
        "\n",
        "frequent_patterns = apriori(df, min_support=0.2, use_colnames=True)\n",
        "association_rules = association_rules(frequent_patterns, metric=\"confidence\", min_threshold=0.6)\n",
        "\n",
        "print(\"Frequent Patterns:\")\n",
        "print(frequent_patterns)\n",
        "print(\"\\nAssociation Rules:\")\n",
        "print(association_rules)"
      ],
      "metadata": {
        "colab": {
          "base_uri": "https://localhost:8080/"
        },
        "id": "wN2OzEEx2J1X",
        "outputId": "3ff8a49d-295c-44ed-d115-3f3fab47dea1"
      },
      "execution_count": null,
      "outputs": [
        {
          "output_type": "stream",
          "name": "stdout",
          "text": [
            "Frequent Patterns:\n",
            "     support                                          itemsets\n",
            "0        0.2                                           (Apple)\n",
            "1        0.4                                            (Corn)\n",
            "2        0.2                                            (Dill)\n",
            "3        0.8                                            (Eggs)\n",
            "4        0.2                                       (Ice cream)\n",
            "..       ...                                               ...\n",
            "144      0.4        (KidneyBeans, Onion, Eggs, Yogurt, Nutmeg)\n",
            "145      0.2               (Onion, Eggs, Yogurt, Milk, Nutmeg)\n",
            "146      0.2        (KidneyBeans, Onion, Yogurt, Milk, Nutmeg)\n",
            "147      0.2  (KidneyBeans, Onion, Eggs, Yogurt, Nutmeg, Dill)\n",
            "148      0.2  (KidneyBeans, Onion, Eggs, Yogurt, Milk, Nutmeg)\n",
            "\n",
            "[149 rows x 2 columns]\n",
            "\n",
            "Association Rules:\n",
            "                antecedents                          consequents  \\\n",
            "0                   (Apple)                               (Eggs)   \n",
            "1                   (Apple)                        (KidneyBeans)   \n",
            "2                   (Apple)                               (Milk)   \n",
            "3               (Ice cream)                               (Corn)   \n",
            "4                    (Corn)                        (KidneyBeans)   \n",
            "..                      ...                                  ...   \n",
            "689    (Yogurt, Milk, Eggs)         (KidneyBeans, Nutmeg, Onion)   \n",
            "690    (Milk, Nutmeg, Eggs)         (KidneyBeans, Onion, Yogurt)   \n",
            "691  (Yogurt, Milk, Nutmeg)           (KidneyBeans, Onion, Eggs)   \n",
            "692           (Milk, Onion)  (KidneyBeans, Nutmeg, Eggs, Yogurt)   \n",
            "693          (Milk, Nutmeg)   (KidneyBeans, Onion, Yogurt, Eggs)   \n",
            "\n",
            "     antecedent support  consequent support  support  confidence      lift  \\\n",
            "0                   0.2                 0.8      0.2         1.0  1.250000   \n",
            "1                   0.2                 1.0      0.2         1.0  1.000000   \n",
            "2                   0.2                 0.6      0.2         1.0  1.666667   \n",
            "3                   0.2                 0.4      0.2         1.0  2.500000   \n",
            "4                   0.4                 1.0      0.4         1.0  1.000000   \n",
            "..                  ...                 ...      ...         ...       ...   \n",
            "689                 0.2                 0.4      0.2         1.0  2.500000   \n",
            "690                 0.2                 0.4      0.2         1.0  2.500000   \n",
            "691                 0.2                 0.6      0.2         1.0  1.666667   \n",
            "692                 0.2                 0.4      0.2         1.0  2.500000   \n",
            "693                 0.2                 0.4      0.2         1.0  2.500000   \n",
            "\n",
            "     leverage  conviction  \n",
            "0        0.04         inf  \n",
            "1        0.00         inf  \n",
            "2        0.08         inf  \n",
            "3        0.12         inf  \n",
            "4        0.00         inf  \n",
            "..        ...         ...  \n",
            "689      0.12         inf  \n",
            "690      0.12         inf  \n",
            "691      0.08         inf  \n",
            "692      0.12         inf  \n",
            "693      0.12         inf  \n",
            "\n",
            "[694 rows x 9 columns]\n"
          ]
        }
      ]
    }
  ]
}